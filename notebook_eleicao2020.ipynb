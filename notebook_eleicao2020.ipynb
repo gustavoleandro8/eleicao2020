{
 "cells": [
  {
   "cell_type": "markdown",
   "id": "4bedafab",
   "metadata": {},
   "source": [
    "## Importação de bibliotecas e Tratamento dos dados"
   ]
  },
  {
   "cell_type": "code",
   "execution_count": 55,
   "id": "7cfca5f6",
   "metadata": {},
   "outputs": [],
   "source": [
    "#importar bibliotecas importantes \n",
    "import pandas as pd\n",
    "import sqlite3\n",
    "import csv"
   ]
  },
  {
   "cell_type": "code",
   "execution_count": 2,
   "id": "83dbd0ba",
   "metadata": {},
   "outputs": [
    {
     "name": "stdout",
     "output_type": "stream",
     "text": [
      "DataFrames salvos como arquivos CSV.\n"
     ]
    }
   ],
   "source": [
    "# Listas de colunas a serem mantidas em cada DataFrame\n",
    "colunas_perfil = [\"SG_UF\",'NM_MUNICIPIO', \"CD_MUNICIPIO\", \"DS_FAIXA_ETARIA\", \"DS_GENERO\", \"DS_GRAU_ESCOLARIDADE\", \"QT_ELEITORES_PERFIL\"]\n",
    "colunas_resultados = [\"SG_UF\", \"CD_MUNICIPIO\", \"NM_MUNICIPIO\", \"NM_VOTAVEL\", \"QT_VOTOS\"]\n",
    "\n",
    "# Ler os dados dos arquivos CSV para DataFrames\n",
    "perfil_eleitorado = pd.read_csv('perfil_eleitorado_2020.csv', sep=';', encoding='Latin 1')\n",
    "resultados = pd.read_csv(\"SP_turno_1.csv\", sep=';', encoding='Latin 1')\n",
    "\n",
    "# Manter apenas as colunas necessárias\n",
    "perfil_eleitorado = perfil_eleitorado[colunas_perfil]\n",
    "resultados = resultados[colunas_resultados]\n",
    "\n",
    "# Realizar o tratamento dos dados\n",
    "# Substituir campos vazios por NaN e -1 por NaN nos campos numéricos\n",
    "perfil_eleitorado.replace({'#NULO#': None, -1: None}, inplace=True)\n",
    "resultados.replace({'#NULO#': None, -1: None}, inplace=True)\n",
    "\n",
    "# Remover registros com valores nulos dos DataFrames\n",
    "perfil_eleitorado.dropna(inplace=True)\n",
    "resultados.dropna(inplace=True)\n",
    "\n",
    "# Salvar DataFrames como arquivos CSV, substituindo se já existirem\n",
    "perfil_eleitorado.to_csv('perfil_eleitorado_cleaned.csv', index=False, sep=';', encoding='Latin 1', mode='w')\n",
    "resultados.to_csv('resultados_cleaned.csv', index=False, sep=';', encoding='Latin 1', mode='w')\n",
    "\n",
    "print(\"DataFrames salvos como arquivos CSV.\")"
   ]
  },
  {
   "cell_type": "markdown",
   "id": "ef9249e5",
   "metadata": {},
   "source": [
    "## Utilizar SQLite para armazenar os dados e realizar consultas"
   ]
  },
  {
   "cell_type": "code",
   "execution_count": 3,
   "id": "1666358c",
   "metadata": {},
   "outputs": [],
   "source": [
    "# Conectar ao banco de dados\n",
    "conn = sqlite3.connect('eleicoes.db')\n",
    "cursor = conn.cursor()\n",
    "\n",
    "# Criar tabelas\n",
    "create_table_perfil = '''\n",
    "CREATE TABLE IF NOT EXISTS perfil_eleitorado (\n",
    "    SG_UF TEXT,\n",
    "    NM_MUNICIPIO TEXT,\n",
    "    CD_MUNICIPIO INTEGER,\n",
    "    DS_FAIXA_ETARIA TEXT,\n",
    "    DS_GENERO TEXT,\n",
    "    DS_GRAU_ESCOLARIDADE TEXT,\n",
    "    QT_ELEITORES_PERFIL INTEGER\n",
    ");\n",
    "'''\n",
    "\n",
    "create_table_resultados = '''\n",
    "CREATE TABLE IF NOT EXISTS resultados (\n",
    "    SG_UF TEXT,\n",
    "    CD_MUNICIPIO INTEGER,\n",
    "    NM_MUNICIPIO TEXT,\n",
    "    NM_VOTAVEL TEXT,\n",
    "    QT_VOTOS INTEGER\n",
    ");\n",
    "'''\n",
    "\n",
    "cursor.execute(create_table_perfil)\n",
    "cursor.execute(create_table_resultados)\n",
    "\n",
    "# Importar dados do arquivo CSV para a tabela perfil_eleitorado\n",
    "with open('perfil_eleitorado_cleaned.csv', 'r', newline='', encoding='latin1') as csvfile:\n",
    "    csvreader = csv.DictReader(csvfile, delimiter=';')\n",
    "    for row in csvreader:\n",
    "        values = [row[col] for col in colunas_perfil]\n",
    "        cursor.execute(\"INSERT INTO perfil_eleitorado VALUES (?, ?, ?, ?, ?, ?, ?)\", values)\n",
    "\n",
    "# Importar dados do arquivo CSV para a tabela resultados\n",
    "with open('resultados_cleaned.csv', 'r', newline='', encoding='latin1') as csvfile:\n",
    "    csvreader = csv.DictReader(csvfile, delimiter=';')\n",
    "    for row in csvreader:\n",
    "        values = [row[col] for col in colunas_resultados]\n",
    "        cursor.execute(\"INSERT INTO resultados VALUES (?, ?, ?, ?, ?)\", values)\n",
    "\n",
    "# Commit as alterações e fechar a conexão\n",
    "conn.commit()\n",
    "conn.close()"
   ]
  },
  {
   "cell_type": "markdown",
   "id": "bd540e91",
   "metadata": {},
   "source": [
    "## Consulta 1: Top 10 candidatos mais votados de acordo com o município específico "
   ]
  },
  {
   "cell_type": "code",
   "execution_count": 16,
   "id": "4d1e9f8a",
   "metadata": {
    "scrolled": true
   },
   "outputs": [
    {
     "name": "stdout",
     "output_type": "stream",
     "text": [
      "Município desejado: ITAPETININGA\n",
      "Os candidatos mais votados de ITAPETININGA em ordem decrescente :\n",
      "----------------------------------------------------\n",
      "Candidato:SIMONE MARQUETTO, Votos Totais: 46913\n",
      "Candidato:MILTON NERY, Votos Totais: 15466\n",
      "Candidato:RICARDO BARBARA, Votos Totais: 10996\n",
      "Candidato:MIGUEL TURMEIRO, Votos Totais: 1854\n",
      "Candidato:MDB, Votos Totais: 1817\n",
      "Candidato:FUAD, Votos Totais: 1542\n",
      "Candidato:UAN MOREIRA, Votos Totais: 1533\n",
      "Candidato:GÊ DE ARAÚJO, Votos Totais: 1287\n",
      "Candidato:ZE DA ESCOLA, Votos Totais: 1162\n",
      "Candidato:ETSON BRUN, Votos Totais: 1147\n"
     ]
    }
   ],
   "source": [
    "# Conectar ao banco de dados\n",
    "conn = sqlite3.connect('eleicoes.db')\n",
    "cursor = conn.cursor()\n",
    "\n",
    "# Candidato a ser especificado\n",
    "municipio_especifico = input('Município desejado: ').upper()\n",
    "\n",
    "# Consulta SQL para encontrar o candidato mais votado em cada município(top 10)\n",
    "query = '''\n",
    "SELECT\n",
    "    NM_VOTAVEL,sum(QT_VOTOS) AS TOTAL_VOTOS\n",
    "FROM\n",
    "    resultados r\n",
    "WHERE\n",
    "    r.NM_MUNICIPIO = ? AND\n",
    "    NM_VOTAVEL != 'Nulo' AND -- remover votos nulos\n",
    "    NM_VOTAVEL != 'Branco' -- remover votos em branco\n",
    "    GROUP BY r.NM_VOTAVEL\n",
    "ORDER BY TOTAL_VOTOS DESC\n",
    "LIMIT 10;\n",
    "'''\n",
    "\n",
    "# Executar a consulta\n",
    "cursor.execute(query,(municipio_especifico,))\n",
    "\n",
    "# Obter os resultados\n",
    "results = cursor.fetchall()\n",
    "\n",
    "# Exibir os resultados\n",
    "print(f'Os candidatos mais votados de {municipio_especifico} em ordem decrescente :')\n",
    "print('----------------------------------------------------')\n",
    "for row in results:\n",
    "    print(f'Candidato:{row[0]}, Votos Totais: {row[1]}')\n",
    "   \n",
    "    \n",
    "\n",
    "# Fechar a conexão\n",
    "conn.close()\n"
   ]
  },
  {
   "cell_type": "markdown",
   "id": "cb7fc388",
   "metadata": {},
   "source": [
    "## Consulta 2: Encontrar o munícipio aonde o candidato específico foi mais votado "
   ]
  },
  {
   "cell_type": "code",
   "execution_count": 60,
   "id": "0ac8f454",
   "metadata": {},
   "outputs": [
    {
     "name": "stdout",
     "output_type": "stream",
     "text": [
      "Município: ITAPETININGA\n",
      "Total de Votos: 46913\n"
     ]
    }
   ],
   "source": [
    "# Conectar ao banco de dados\n",
    "conn = sqlite3.connect('eleicoes.db')\n",
    "cursor = conn.cursor()\n",
    "\n",
    "# Candidato a ser especificado\n",
    "candidato_especifico = 'simone marquetto'.upper()\n",
    "\n",
    "# Consulta SQL para encontrar o candidato mais votado em cada município\n",
    "query = '''\n",
    "SELECT\n",
    "    r.NM_MUNICIPIO,\n",
    "    SUM(r.QT_VOTOS) AS MaxVotos\n",
    "FROM\n",
    "    resultados r\n",
    "WHERE\n",
    "    r.NM_VOTAVEL = ?\n",
    "GROUP BY\n",
    "    r.NM_MUNICIPIO;\n",
    "\n",
    "'''\n",
    "\n",
    "# Executar a consulta\n",
    "cursor.execute(query,(candidato_especifico,))\n",
    "\n",
    "# Obter os resultados\n",
    "results = cursor.fetchall()\n",
    "\n",
    "# Exibir os resultados\n",
    "for row in results:\n",
    "    print(\"Município:\",row[0])\n",
    "    print(\"Total de Votos:\",row[1])\n",
    "\n",
    "# Fechar a conexão\n",
    "conn.close()\n"
   ]
  },
  {
   "cell_type": "markdown",
   "id": "3c89d6d4",
   "metadata": {},
   "source": [
    "## Consulta 3: Perfil do eleitor de acordo com o município específico"
   ]
  },
  {
   "cell_type": "code",
   "execution_count": 13,
   "id": "8d76a4a5",
   "metadata": {},
   "outputs": [
    {
     "name": "stdout",
     "output_type": "stream",
     "text": [
      "Municipio desejado: sorocaba\n",
      "Município: SOROCABA\n",
      "Gênero Mais Frequente: FEMININO\n",
      "Faixa Etária Mais Frequente: 35 a 39 anos                  \n",
      "Grau de Escolaridade Mais Frequente: ENSINO MÉDIO COMPLETO\n",
      "Total de eleitores: 485962\n"
     ]
    }
   ],
   "source": [
    "import sqlite3\n",
    "\n",
    "# Conectar ao banco de dados\n",
    "conn = sqlite3.connect('eleicoes.db')\n",
    "cursor = conn.cursor()\n",
    "\n",
    "# Municipio a ser especificado\n",
    "municipio_especifico = input('Municipio desejado: ').upper()\n",
    "\n",
    "# Consulta SQL para obter os valores mais frequentes nas colunas DS_GENERO, DS_FAIXA_ETARIA e DS_GRAU_ESCOLARIDADE ordenados por numero total de eleitores com perfil\n",
    "query = f'''\n",
    "SELECT\n",
    "    NM_MUNICIPIO,\n",
    "    (SELECT DS_GENERO FROM perfil_eleitorado WHERE SG_UF = 'SP' AND NM_MUNICIPIO = ? GROUP BY DS_GENERO ORDER BY SUM(QT_ELEITORES_PERFIL) DESC LIMIT 1) AS Genero_Mais_Frequente,\n",
    "    (SELECT DS_FAIXA_ETARIA FROM perfil_eleitorado WHERE SG_UF = 'SP' AND NM_MUNICIPIO = ? GROUP BY DS_FAIXA_ETARIA ORDER BY SUM(QT_ELEITORES_PERFIL) DESC LIMIT 1) AS Faixa_Etaria_Mais_Frequente,\n",
    "    (SELECT DS_GRAU_ESCOLARIDADE FROM perfil_eleitorado WHERE SG_UF = 'SP' AND NM_MUNICIPIO = ? GROUP BY DS_GRAU_ESCOLARIDADE ORDER BY SUM(QT_ELEITORES_PERFIL) DESC LIMIT 1) AS Grau_Escolaridade_Mais_Frequente,\n",
    "     SUM(QT_ELEITORES_PERFIL) AS VOTOS_TOTAL\n",
    "FROM\n",
    "    perfil_eleitorado\n",
    "WHERE\n",
    "    SG_UF = 'SP' AND\n",
    "    NM_MUNICIPIO = ? \n",
    "GROUP BY\n",
    "    NM_MUNICIPIO;\n",
    "'''\n",
    "\n",
    "# Executar a consulta\n",
    "cursor.execute(query, (municipio_especifico, municipio_especifico, municipio_especifico, municipio_especifico))\n",
    "\n",
    "# Obter os resultados\n",
    "results = cursor.fetchall()\n",
    "\n",
    "# Exibir os resultados\n",
    "for row in results:\n",
    "    print(\"Município:\", row[0])\n",
    "    print(\"Gênero Mais Frequente:\", row[1])\n",
    "    print(\"Faixa Etária Mais Frequente:\", row[2])\n",
    "    print(\"Grau de Escolaridade Mais Frequente:\", row[3])\n",
    "    print(\"Total de eleitores:\", row[4])\n",
    "\n",
    "# Fechar a conexão\n",
    "conn.close()\n"
   ]
  }
 ],
 "metadata": {
  "kernelspec": {
   "display_name": "Python 3 (ipykernel)",
   "language": "python",
   "name": "python3"
  },
  "language_info": {
   "codemirror_mode": {
    "name": "ipython",
    "version": 3
   },
   "file_extension": ".py",
   "mimetype": "text/x-python",
   "name": "python",
   "nbconvert_exporter": "python",
   "pygments_lexer": "ipython3",
   "version": "3.11.3"
  }
 },
 "nbformat": 4,
 "nbformat_minor": 5
}
